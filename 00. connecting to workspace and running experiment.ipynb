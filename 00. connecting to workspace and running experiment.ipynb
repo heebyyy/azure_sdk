{
 "cells": [
  {
   "cell_type": "code",
   "execution_count": 1,
   "id": "3a0f8deb",
   "metadata": {},
   "outputs": [
    {
     "name": "stderr",
     "output_type": "stream",
     "text": [
      "C:\\Users\\Bolaji\\anaconda3\\lib\\site-packages\\paramiko\\transport.py:219: CryptographyDeprecationWarning: Blowfish has been deprecated\n",
      "  \"class\": algorithms.Blowfish,\n"
     ]
    }
   ],
   "source": [
    "from azureml.core import Workspace"
   ]
  },
  {
   "cell_type": "code",
   "execution_count": 2,
   "id": "e5fa7eb0",
   "metadata": {},
   "outputs": [],
   "source": [
    "ws = Workspace.from_config('config.json')"
   ]
  },
  {
   "cell_type": "code",
   "execution_count": 3,
   "id": "d7086d38",
   "metadata": {},
   "outputs": [
    {
     "name": "stdout",
     "output_type": "stream",
     "text": [
      "mycomp : ComputeInstance\n"
     ]
    }
   ],
   "source": [
    "for compute_name in ws.compute_targets:\n",
    "    compute = ws.compute_targets[compute_name]\n",
    "    print(compute.name, ':', compute.type)"
   ]
  },
  {
   "cell_type": "code",
   "execution_count": 13,
   "id": "0fa1abfd",
   "metadata": {},
   "outputs": [],
   "source": [
    "from azureml.core import Experiment\n",
    "import pandas as pd\n",
    "\n",
    "# Create an Azure ML experiment in your workspace\n",
    "experiment = Experiment(workspace = ws, name = 'my-experiment')\n",
    "\n",
    "# Start logging data from the experiment\n",
    "run = experiment.start_logging()\n",
    "\n",
    "# load the dataset and count the rows\n",
    "data = pd.read_csv('data/diabetes.csv')\n",
    "row_count = (len(data))\n",
    "\n",
    "# Log the row count\n",
    "run.log('observations', row_count)\n",
    "\n",
    "# Complete the experiment\n",
    "run.complete()"
   ]
  },
  {
   "cell_type": "code",
   "execution_count": 14,
   "id": "82aba6a9",
   "metadata": {},
   "outputs": [
    {
     "data": {
      "application/vnd.jupyter.widget-view+json": {
       "model_id": "8f2e207292344e4da30d33396e34b552",
       "version_major": 2,
       "version_minor": 0
      },
      "text/plain": [
       "_UserRunWidget(widget_settings={'childWidgetDisplay': 'popup', 'send_telemetry': False, 'log_level': 'INFO', '…"
      ]
     },
     "metadata": {},
     "output_type": "display_data"
    },
    {
     "data": {
      "application/aml.mini.widget.v1": "{\"status\": \"Completed\", \"workbench_run_details_uri\": \"https://ml.azure.com/runs/c950245c-9953-424d-82b7-1bd67ce4dcdb?wsid=/subscriptions/d8bccc1b-c78e-47bd-8014-e1579d4d6ea2/resourcegroups/ignite/workspaces/new_ml&tid=6841c0a9-5ee2-4588-a067-4b36bed4bc58\", \"run_id\": \"c950245c-9953-424d-82b7-1bd67ce4dcdb\", \"run_properties\": {\"run_id\": \"c950245c-9953-424d-82b7-1bd67ce4dcdb\", \"created_utc\": \"2023-02-15T00:20:26.911646Z\", \"properties\": {\"ContentSnapshotId\": \"878256a8-c10e-4cf2-9ac6-e70a78914426\"}, \"tags\": {}, \"end_time_utc\": \"2023-02-15T00:20:45.60781Z\", \"status\": \"Completed\", \"log_files\": {}, \"log_groups\": [], \"run_duration\": \"0:00:18\", \"run_number\": \"1676420426\", \"run_queued_details\": {\"status\": \"Completed\", \"details\": null}}, \"child_runs\": [], \"children_metrics\": {}, \"run_metrics\": [{\"name\": \"observations\", \"run_id\": \"c950245c-9953-424d-82b7-1bd67ce4dcdb\", \"categories\": [0], \"series\": [{\"data\": [10000]}]}], \"run_logs\": \"\\nRun is completed.\", \"graph\": {}, \"widget_settings\": {\"childWidgetDisplay\": \"popup\", \"send_telemetry\": false, \"log_level\": \"INFO\", \"sdk_version\": \"1.49.0\"}, \"loading\": false}"
     },
     "metadata": {},
     "output_type": "display_data"
    }
   ],
   "source": [
    "from azureml.widgets import RunDetails\n",
    "RunDetails(run).show()"
   ]
  },
  {
   "cell_type": "code",
   "execution_count": 15,
   "id": "a6ca5f17",
   "metadata": {},
   "outputs": [
    {
     "name": "stdout",
     "output_type": "stream",
     "text": [
      "{\n",
      "  \"observations\": 10000\n",
      "}\n"
     ]
    }
   ],
   "source": [
    "import json\n",
    "\n",
    "# Get logged metrics\n",
    "metrics = run.get_metrics()\n",
    "print(json.dumps(metrics, indent=2))"
   ]
  },
  {
   "cell_type": "code",
   "execution_count": 16,
   "id": "14c87f7b",
   "metadata": {},
   "outputs": [
    {
     "data": {
      "text/plain": [
       "<azureml._restclient.models.batch_artifact_content_information_dto.BatchArtifactContentInformationDto at 0x1c7b04f9160>"
      ]
     },
     "execution_count": 16,
     "metadata": {},
     "output_type": "execute_result"
    }
   ],
   "source": [
    "run.upload_file(name='outputs/sample.csv', path_or_stream='data/diabetes.csv')"
   ]
  },
  {
   "cell_type": "markdown",
   "id": "4b9772dc",
   "metadata": {},
   "source": [
    "## Run script as experiment"
   ]
  },
  {
   "cell_type": "code",
   "execution_count": 4,
   "id": "6e010529",
   "metadata": {
    "scrolled": false
   },
   "outputs": [
    {
     "name": "stdout",
     "output_type": "stream",
     "text": [
      "RunId: my-experiment2_1676422004_eaab53f2\n",
      "Web View: https://ml.azure.com/runs/my-experiment2_1676422004_eaab53f2?wsid=/subscriptions/d8bccc1b-c78e-47bd-8014-e1579d4d6ea2/resourcegroups/ignite/workspaces/new_ml&tid=6841c0a9-5ee2-4588-a067-4b36bed4bc58\n",
      "\n",
      "Streaming azureml-logs/60_control_log.txt\n",
      "=========================================\n",
      "\n",
      "[2023-02-15T00:46:49.076602] Using urllib.request Python 3.0 or later\n",
      "Streaming log file azureml-logs/60_control_log.txt\n",
      "Running: ['cmd.exe', '/c', 'C:\\\\Users\\\\Bolaji\\\\AppData\\\\Local\\\\Temp\\\\azureml_runs\\\\my-experiment2_1676422004_eaab53f2\\\\azureml-environment-setup/conda_env_checker.bat']\n",
      "Starting the daemon thread to refresh tokens in background for process with pid = 7624\n",
      "Materialized conda environment not found on target: C:\\Users\\Bolaji/.azureml/envs/azureml_f3f7e6c5fb83d94df23933000bf02da3\n",
      "\n",
      "\n",
      "[2023-02-15T00:46:52.171805] Logging experiment preparation status in history service.\n",
      "Running: ['cmd.exe', '/c', 'C:\\\\Users\\\\Bolaji\\\\AppData\\\\Local\\\\Temp\\\\azureml_runs\\\\my-experiment2_1676422004_eaab53f2\\\\azureml-environment-setup/conda_env_builder.bat']\n",
      "Running: ['conda', '--version']\n",
      "conda 22.11.1\n",
      "\n",
      "Creating conda environment...\n",
      "Running: ['conda', 'env', 'create', '-p', 'C:\\\\Users\\\\Bolaji/.azureml/envs/azureml_f3f7e6c5fb83d94df23933000bf02da3', '-f', 'azureml-environment-setup/mutated_conda_dependencies.yml']\n",
      "Warning: you have pip-installed dependencies in your environment file, but you do not list pip itself as one of your conda dependencies.  Conda may not use the correct pip to install your packages, and they may end up in the wrong place.  Please add an explicit pip dependency.  I'm adding one for you, but still nagging you.\n",
      "Collecting package metadata (repodata.json): ...working... done\n",
      "Solving environment: ...working... done\n",
      "\n",
      "Downloading and Extracting Packages\n",
      "                                                     \n",
      "Preparing transaction: ...working... done\n",
      "Verifying transaction: ...working... done\n",
      "Executing transaction: ...working... done\n",
      "\n",
      "Streaming azureml-logs/70_driver_log.txt\n",
      "========================================\n",
      "\n",
      "[2023-02-15T00:53:04.912191] Entering context manager injector.\n",
      "[2023-02-15T00:53:19.036495] context_manager_injector.py Command line Options: Namespace(inject=['ProjectPythonPath:context_managers.ProjectPythonPath', 'RunHistory:context_managers.RunHistory', 'TrackUserError:context_managers.TrackUserError'], invocation=['01. run script as experiment.py'])\n",
      "Script type = None\n",
      "[2023-02-15T00:53:19.108965] Entering Run History Context Manager.\n",
      "[2023-02-15T00:53:36.293413] Current directory: C:\\Users\\Bolaji\\AppData\\Local\\Temp\\azureml_runs\\my-experiment2_1676422004_eaab53f2\n",
      "[2023-02-15T00:53:36.294431] Preparing to call script [01. run script as experiment.py] with arguments:[]\n",
      "[2023-02-15T00:53:36.315053] After variable expansion, calling script [01. run script as experiment.py] with arguments:[]\n",
      "\n",
      "\n",
      "\n",
      "[2023-02-15T00:53:36.346487] The experiment failed. Finalizing run...\n",
      "[2023-02-15T00:53:36.346487] Start FinalizingInRunHistory\n",
      "[2023-02-15T00:53:36.359010] Logging experiment finalizing status in history service.\n",
      "Starting the daemon thread to refresh tokens in background for process with pid = 14764\n",
      "Cleaning up all outstanding Run operations, waiting 300.0 seconds\n",
      "1 items cleaning up...\n",
      "Cleanup took 0.9777038097381592 seconds\n",
      "Traceback (most recent call last):\n",
      "  File \"01. run script as experiment.py\", line 2, in <module>\n",
      "    import pandas as pd\n",
      "ModuleNotFoundError: No module named 'pandas'\n",
      "\n",
      "[2023-02-15T00:53:43.396826] Finished context manager injector with Exception.\n",
      "\n",
      "Execution Summary\n",
      "=================\n",
      "RunId: my-experiment2_1676422004_eaab53f2\n",
      "Web View: https://ml.azure.com/runs/my-experiment2_1676422004_eaab53f2?wsid=/subscriptions/d8bccc1b-c78e-47bd-8014-e1579d4d6ea2/resourcegroups/ignite/workspaces/new_ml&tid=6841c0a9-5ee2-4588-a067-4b36bed4bc58\n",
      "\n",
      "Warnings:\n",
      "Local execution of User Script failed. Details can be found in azureml-logs/60_control_log.txt log file.\n",
      "\n"
     ]
    },
    {
     "ename": "ActivityFailedException",
     "evalue": "ActivityFailedException:\n\tMessage: Activity Failed:\n{\n    \"error\": {\n        \"code\": \"UserError\",\n        \"message\": \"User program failed with ModuleNotFoundError: No module named 'pandas'\",\n        \"messageParameters\": {},\n        \"detailsUri\": \"https://aka.ms/azureml-run-troubleshooting\",\n        \"details\": []\n    },\n    \"time\": \"0001-01-01T00:00:00.000Z\"\n}\n\tInnerException None\n\tErrorResponse \n{\n    \"error\": {\n        \"message\": \"Activity Failed:\\n{\\n    \\\"error\\\": {\\n        \\\"code\\\": \\\"UserError\\\",\\n        \\\"message\\\": \\\"User program failed with ModuleNotFoundError: No module named 'pandas'\\\",\\n        \\\"messageParameters\\\": {},\\n        \\\"detailsUri\\\": \\\"https://aka.ms/azureml-run-troubleshooting\\\",\\n        \\\"details\\\": []\\n    },\\n    \\\"time\\\": \\\"0001-01-01T00:00:00.000Z\\\"\\n}\"\n    }\n}",
     "output_type": "error",
     "traceback": [
      "\u001b[1;31m---------------------------------------------------------------------------\u001b[0m",
      "\u001b[1;31mActivityFailedException\u001b[0m                   Traceback (most recent call last)",
      "\u001b[1;32m~\\AppData\\Local\\Temp\\ipykernel_4032\\2291309196.py\u001b[0m in \u001b[0;36m<module>\u001b[1;34m\u001b[0m\n\u001b[0;32m      8\u001b[0m \u001b[0mexperiment\u001b[0m \u001b[1;33m=\u001b[0m \u001b[0mExperiment\u001b[0m\u001b[1;33m(\u001b[0m\u001b[0mworkspace\u001b[0m \u001b[1;33m=\u001b[0m \u001b[0mws\u001b[0m\u001b[1;33m,\u001b[0m \u001b[0mname\u001b[0m \u001b[1;33m=\u001b[0m \u001b[1;34m'my-experiment2'\u001b[0m\u001b[1;33m)\u001b[0m\u001b[1;33m\u001b[0m\u001b[1;33m\u001b[0m\u001b[0m\n\u001b[0;32m      9\u001b[0m \u001b[0mrun\u001b[0m \u001b[1;33m=\u001b[0m \u001b[0mexperiment\u001b[0m\u001b[1;33m.\u001b[0m\u001b[0msubmit\u001b[0m\u001b[1;33m(\u001b[0m\u001b[0mconfig\u001b[0m\u001b[1;33m=\u001b[0m\u001b[0mscript_config\u001b[0m\u001b[1;33m)\u001b[0m\u001b[1;33m\u001b[0m\u001b[1;33m\u001b[0m\u001b[0m\n\u001b[1;32m---> 10\u001b[1;33m \u001b[0mrun\u001b[0m\u001b[1;33m.\u001b[0m\u001b[0mwait_for_completion\u001b[0m\u001b[1;33m(\u001b[0m\u001b[0mshow_output\u001b[0m\u001b[1;33m=\u001b[0m\u001b[1;32mTrue\u001b[0m\u001b[1;33m)\u001b[0m\u001b[1;33m\u001b[0m\u001b[1;33m\u001b[0m\u001b[0m\n\u001b[0m",
      "\u001b[1;32m~\\anaconda3\\lib\\site-packages\\azureml\\core\\run.py\u001b[0m in \u001b[0;36mwait_for_completion\u001b[1;34m(self, show_output, wait_post_processing, raise_on_error)\u001b[0m\n\u001b[0;32m    847\u001b[0m         \u001b[1;32mif\u001b[0m \u001b[0mshow_output\u001b[0m\u001b[1;33m:\u001b[0m\u001b[1;33m\u001b[0m\u001b[1;33m\u001b[0m\u001b[0m\n\u001b[0;32m    848\u001b[0m             \u001b[1;32mtry\u001b[0m\u001b[1;33m:\u001b[0m\u001b[1;33m\u001b[0m\u001b[1;33m\u001b[0m\u001b[0m\n\u001b[1;32m--> 849\u001b[1;33m                 self._stream_run_output(\n\u001b[0m\u001b[0;32m    850\u001b[0m                     \u001b[0mfile_handle\u001b[0m\u001b[1;33m=\u001b[0m\u001b[0msys\u001b[0m\u001b[1;33m.\u001b[0m\u001b[0mstdout\u001b[0m\u001b[1;33m,\u001b[0m\u001b[1;33m\u001b[0m\u001b[1;33m\u001b[0m\u001b[0m\n\u001b[0;32m    851\u001b[0m                     \u001b[0mwait_post_processing\u001b[0m\u001b[1;33m=\u001b[0m\u001b[0mwait_post_processing\u001b[0m\u001b[1;33m,\u001b[0m\u001b[1;33m\u001b[0m\u001b[1;33m\u001b[0m\u001b[0m\n",
      "\u001b[1;32m~\\anaconda3\\lib\\site-packages\\azureml\\core\\run.py\u001b[0m in \u001b[0;36m_stream_run_output\u001b[1;34m(self, file_handle, wait_post_processing, raise_on_error)\u001b[0m\n\u001b[0;32m   1100\u001b[0m                 \u001b[0mfile_handle\u001b[0m\u001b[1;33m.\u001b[0m\u001b[0mwrite\u001b[0m\u001b[1;33m(\u001b[0m\u001b[1;34m\"\\n\"\u001b[0m\u001b[1;33m)\u001b[0m\u001b[1;33m\u001b[0m\u001b[1;33m\u001b[0m\u001b[0m\n\u001b[0;32m   1101\u001b[0m             \u001b[1;32melse\u001b[0m\u001b[1;33m:\u001b[0m\u001b[1;33m\u001b[0m\u001b[1;33m\u001b[0m\u001b[0m\n\u001b[1;32m-> 1102\u001b[1;33m                 \u001b[1;32mraise\u001b[0m \u001b[0mActivityFailedException\u001b[0m\u001b[1;33m(\u001b[0m\u001b[0merror_details\u001b[0m\u001b[1;33m=\u001b[0m\u001b[0mjson\u001b[0m\u001b[1;33m.\u001b[0m\u001b[0mdumps\u001b[0m\u001b[1;33m(\u001b[0m\u001b[0merror\u001b[0m\u001b[1;33m,\u001b[0m \u001b[0mindent\u001b[0m\u001b[1;33m=\u001b[0m\u001b[1;36m4\u001b[0m\u001b[1;33m)\u001b[0m\u001b[1;33m)\u001b[0m\u001b[1;33m\u001b[0m\u001b[1;33m\u001b[0m\u001b[0m\n\u001b[0m\u001b[0;32m   1103\u001b[0m \u001b[1;33m\u001b[0m\u001b[0m\n\u001b[0;32m   1104\u001b[0m         \u001b[0mfile_handle\u001b[0m\u001b[1;33m.\u001b[0m\u001b[0mwrite\u001b[0m\u001b[1;33m(\u001b[0m\u001b[1;34m\"\\n\"\u001b[0m\u001b[1;33m)\u001b[0m\u001b[1;33m\u001b[0m\u001b[1;33m\u001b[0m\u001b[0m\n",
      "\u001b[1;31mActivityFailedException\u001b[0m: ActivityFailedException:\n\tMessage: Activity Failed:\n{\n    \"error\": {\n        \"code\": \"UserError\",\n        \"message\": \"User program failed with ModuleNotFoundError: No module named 'pandas'\",\n        \"messageParameters\": {},\n        \"detailsUri\": \"https://aka.ms/azureml-run-troubleshooting\",\n        \"details\": []\n    },\n    \"time\": \"0001-01-01T00:00:00.000Z\"\n}\n\tInnerException None\n\tErrorResponse \n{\n    \"error\": {\n        \"message\": \"Activity Failed:\\n{\\n    \\\"error\\\": {\\n        \\\"code\\\": \\\"UserError\\\",\\n        \\\"message\\\": \\\"User program failed with ModuleNotFoundError: No module named 'pandas'\\\",\\n        \\\"messageParameters\\\": {},\\n        \\\"detailsUri\\\": \\\"https://aka.ms/azureml-run-troubleshooting\\\",\\n        \\\"details\\\": []\\n    },\\n    \\\"time\\\": \\\"0001-01-01T00:00:00.000Z\\\"\\n}\"\n    }\n}"
     ]
    }
   ],
   "source": [
    "from azureml.core import Experiment, ScriptRunConfig\n",
    "\n",
    "# Create a script config\n",
    "script_config = ScriptRunConfig(source_directory='./',\n",
    "                                script='01. run script as experiment.py') \n",
    "\n",
    "# submit the experiment\n",
    "experiment = Experiment(workspace = ws, name = 'my-experiment2')\n",
    "run = experiment.submit(config=script_config)\n",
    "run.wait_for_completion(show_output=True)"
   ]
  },
  {
   "cell_type": "code",
   "execution_count": null,
   "id": "8ad45c83",
   "metadata": {},
   "outputs": [],
   "source": []
  }
 ],
 "metadata": {
  "kernelspec": {
   "display_name": "Python 3 (ipykernel)",
   "language": "python",
   "name": "python3"
  },
  "language_info": {
   "codemirror_mode": {
    "name": "ipython",
    "version": 3
   },
   "file_extension": ".py",
   "mimetype": "text/x-python",
   "name": "python",
   "nbconvert_exporter": "python",
   "pygments_lexer": "ipython3",
   "version": "3.9.13"
  }
 },
 "nbformat": 4,
 "nbformat_minor": 5
}
